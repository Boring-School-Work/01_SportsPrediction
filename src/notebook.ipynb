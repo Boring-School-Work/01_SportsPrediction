{
 "cells": [
  {
   "cell_type": "markdown",
   "metadata": {},
   "source": [
    "## Import Modules"
   ]
  },
  {
   "cell_type": "code",
   "execution_count": 169,
   "metadata": {},
   "outputs": [],
   "source": [
    "# import modules\n",
    "import pandas as pd\n",
    "from sklearn.impute import SimpleImputer"
   ]
  },
  {
   "cell_type": "markdown",
   "metadata": {},
   "source": [
    "## Loading Data"
   ]
  },
  {
   "cell_type": "code",
   "execution_count": 158,
   "metadata": {},
   "outputs": [
    {
     "name": "stderr",
     "output_type": "stream",
     "text": [
      "/tmp/ipykernel_6850/653244438.py:3: DtypeWarning: Columns (25,108) have mixed types. Specify dtype option on import or set low_memory=False.\n",
      "  testing_data = pd.read_csv('data/players_22.csv')\n"
     ]
    }
   ],
   "source": [
    "# read data\n",
    "training_data = pd.read_csv('data/players_21.csv')\n",
    "testing_data = pd.read_csv('data/players_22.csv')"
   ]
  },
  {
   "cell_type": "markdown",
   "metadata": {},
   "source": [
    "## Data Preprocessing"
   ]
  },
  {
   "cell_type": "markdown",
   "metadata": {},
   "source": [
    "### Remove columns with na values that exceed 30%"
   ]
  },
  {
   "cell_type": "code",
   "execution_count": 159,
   "metadata": {},
   "outputs": [],
   "source": [
    "# Calculate the percentage of na values in each column\n",
    "na_percentages = training_data.isna().sum() / len(training_data) * 100\n",
    "\n",
    "# Select the columns where the percentage of na values exceeds 30%\n",
    "cols_to_drop = na_percentages[na_percentages > 30].index\n",
    "\n",
    "# Drop the selected columns\n",
    "training_data.drop(cols_to_drop, axis=1, inplace=True)\n",
    "testing_data.drop(cols_to_drop, axis=1, inplace=True)"
   ]
  },
  {
   "cell_type": "markdown",
   "metadata": {},
   "source": [
    "### Remove columns where the values do not obviously contribute a player's overall rating"
   ]
  },
  {
   "cell_type": "code",
   "execution_count": 160,
   "metadata": {},
   "outputs": [],
   "source": [
    "# urls do not help to predict a player's rating\n",
    "# remove columns that have 'url' in their name\n",
    "cols_to_drop = [col for col in training_data.columns if 'url' in col]\n",
    "training_data.drop(cols_to_drop, axis=1, inplace=True)\n",
    "testing_data.drop(cols_to_drop, axis=1, inplace=True)"
   ]
  },
  {
   "cell_type": "code",
   "execution_count": 161,
   "metadata": {},
   "outputs": [],
   "source": [
    "# columns that obviously do not contribute to a player's rating\n",
    "cols_to_drop = [\n",
    "    \"age\",\n",
    "    \"sofifa_id\",\n",
    "    \"short_name\",\n",
    "    \"long_name\",\n",
    "    \"real_face\",\n",
    "]\n",
    "\n",
    "# drop the columns\n",
    "training_data.drop(cols_to_drop, axis=1, inplace=True)\n",
    "testing_data.drop(cols_to_drop, axis=1, inplace=True)"
   ]
  },
  {
   "cell_type": "code",
   "execution_count": 162,
   "metadata": {},
   "outputs": [],
   "source": [
    "# columns where input would not be available at the time of prediction\n",
    "cols_to_drop = [\n",
    "    \"gk\", \"rb\", \"rcb\", \"cb\", \"lcb\", \"lb\", \"rwb\", \"rdm\", \"cdm\", \"ldm\", \"lwb\", \"rm\", \"rcm\", \"cm\", \"lcm\", \"lm\", \"ram\", \"cam\", \"lam\", \"rw\", \"rf\", \"cf\", \"lf\", \"lw\", \"rs\", \"st\", \"ls\", \"club_joined\", \"club_contract_valid_until\"\n",
    "]\n",
    "\n",
    "# drop the columns\n",
    "training_data.drop(cols_to_drop, axis=1, inplace=True)\n",
    "testing_data.drop(cols_to_drop, axis=1, inplace=True)"
   ]
  },
  {
   "cell_type": "code",
   "execution_count": 163,
   "metadata": {},
   "outputs": [],
   "source": [
    "# remove club, national and league info. They do not explicitly determine a player's rating\n",
    "cols_to_drop = [\n",
    "    \"club_name\", \"league_name\", \"league_level\", \"club_jersey_number\", \"nationality_id\", \"nationality_name\", \"value_eur\", \"release_clause_eur\", \"club_team_id\"\n",
    "]\n",
    "\n",
    "# drop the columns\n",
    "training_data.drop(cols_to_drop, axis=1, inplace=True)\n",
    "testing_data.drop(cols_to_drop, axis=1, inplace=True)"
   ]
  },
  {
   "cell_type": "markdown",
   "metadata": {},
   "source": [
    "#### Encoding data"
   ]
  },
  {
   "cell_type": "code",
   "execution_count": 165,
   "metadata": {},
   "outputs": [
    {
     "name": "stdout",
     "output_type": "stream",
     "text": [
      "<class 'pandas.core.frame.DataFrame'>\n",
      "RangeIndex: 18944 entries, 0 to 18943\n",
      "Data columns (total 53 columns):\n",
      " #   Column                       Non-Null Count  Dtype  \n",
      "---  ------                       --------------  -----  \n",
      " 0   player_positions             18944 non-null  object \n",
      " 1   potential                    18944 non-null  int64  \n",
      " 2   wage_eur                     18719 non-null  float64\n",
      " 3   dob                          18944 non-null  object \n",
      " 4   height_cm                    18944 non-null  int64  \n",
      " 5   weight_kg                    18944 non-null  int64  \n",
      " 6   club_position                18719 non-null  object \n",
      " 7   preferred_foot               18944 non-null  object \n",
      " 8   weak_foot                    18944 non-null  int64  \n",
      " 9   skill_moves                  18944 non-null  int64  \n",
      " 10  international_reputation     18944 non-null  int64  \n",
      " 11  work_rate                    18944 non-null  object \n",
      " 12  body_type                    18944 non-null  object \n",
      " 13  pace                         16861 non-null  float64\n",
      " 14  shooting                     16861 non-null  float64\n",
      " 15  passing                      16861 non-null  float64\n",
      " 16  dribbling                    16861 non-null  float64\n",
      " 17  defending                    16861 non-null  float64\n",
      " 18  physic                       16861 non-null  float64\n",
      " 19  attacking_crossing           18944 non-null  int64  \n",
      " 20  attacking_finishing          18944 non-null  int64  \n",
      " 21  attacking_heading_accuracy   18944 non-null  int64  \n",
      " 22  attacking_short_passing      18944 non-null  int64  \n",
      " 23  attacking_volleys            18944 non-null  int64  \n",
      " 24  skill_dribbling              18944 non-null  int64  \n",
      " 25  skill_curve                  18944 non-null  int64  \n",
      " 26  skill_fk_accuracy            18944 non-null  int64  \n",
      " 27  skill_long_passing           18944 non-null  int64  \n",
      " 28  skill_ball_control           18944 non-null  int64  \n",
      " 29  movement_acceleration        18944 non-null  int64  \n",
      " 30  movement_sprint_speed        18944 non-null  int64  \n",
      " 31  movement_agility             18944 non-null  int64  \n",
      " 32  movement_reactions           18944 non-null  int64  \n",
      " 33  movement_balance             18944 non-null  int64  \n",
      " 34  power_shot_power             18944 non-null  int64  \n",
      " 35  power_jumping                18944 non-null  int64  \n",
      " 36  power_stamina                18944 non-null  int64  \n",
      " 37  power_strength               18944 non-null  int64  \n",
      " 38  power_long_shots             18944 non-null  int64  \n",
      " 39  mentality_aggression         18944 non-null  int64  \n",
      " 40  mentality_interceptions      18944 non-null  int64  \n",
      " 41  mentality_positioning        18944 non-null  int64  \n",
      " 42  mentality_vision             18944 non-null  int64  \n",
      " 43  mentality_penalties          18944 non-null  int64  \n",
      " 44  mentality_composure          18944 non-null  int64  \n",
      " 45  defending_marking_awareness  18944 non-null  int64  \n",
      " 46  defending_standing_tackle    18944 non-null  int64  \n",
      " 47  defending_sliding_tackle     18944 non-null  int64  \n",
      " 48  goalkeeping_diving           18944 non-null  int64  \n",
      " 49  goalkeeping_handling         18944 non-null  int64  \n",
      " 50  goalkeeping_kicking          18944 non-null  int64  \n",
      " 51  goalkeeping_positioning      18944 non-null  int64  \n",
      " 52  goalkeeping_reflexes         18944 non-null  int64  \n",
      "dtypes: float64(7), int64(40), object(6)\n",
      "memory usage: 7.7+ MB\n"
     ]
    }
   ],
   "source": [
    "trainX.info()"
   ]
  },
  {
   "cell_type": "code",
   "execution_count": 166,
   "metadata": {},
   "outputs": [],
   "source": [
    "# use pd.factorize to convert categorical columns to numerical\n",
    "# check if dtype is object\n",
    "\n",
    "# get categorical columns\n",
    "cat_cols = [col for col in trainX.columns if trainX[col].dtype == 'object']\n",
    "\n",
    "# factorize the categorical columns\n",
    "for col in cat_cols:\n",
    "    trainX[col], c1 = pd.factorize(trainX[col])\n",
    "    testX[col], c2 = pd.factorize(testX[col])"
   ]
  },
  {
   "cell_type": "code",
   "execution_count": 167,
   "metadata": {},
   "outputs": [
    {
     "name": "stdout",
     "output_type": "stream",
     "text": [
      "<class 'pandas.core.frame.DataFrame'>\n",
      "RangeIndex: 18944 entries, 0 to 18943\n",
      "Data columns (total 53 columns):\n",
      " #   Column                       Non-Null Count  Dtype  \n",
      "---  ------                       --------------  -----  \n",
      " 0   player_positions             18944 non-null  int64  \n",
      " 1   potential                    18944 non-null  int64  \n",
      " 2   wage_eur                     18719 non-null  float64\n",
      " 3   dob                          18944 non-null  int64  \n",
      " 4   height_cm                    18944 non-null  int64  \n",
      " 5   weight_kg                    18944 non-null  int64  \n",
      " 6   club_position                18944 non-null  int64  \n",
      " 7   preferred_foot               18944 non-null  int64  \n",
      " 8   weak_foot                    18944 non-null  int64  \n",
      " 9   skill_moves                  18944 non-null  int64  \n",
      " 10  international_reputation     18944 non-null  int64  \n",
      " 11  work_rate                    18944 non-null  int64  \n",
      " 12  body_type                    18944 non-null  int64  \n",
      " 13  pace                         16861 non-null  float64\n",
      " 14  shooting                     16861 non-null  float64\n",
      " 15  passing                      16861 non-null  float64\n",
      " 16  dribbling                    16861 non-null  float64\n",
      " 17  defending                    16861 non-null  float64\n",
      " 18  physic                       16861 non-null  float64\n",
      " 19  attacking_crossing           18944 non-null  int64  \n",
      " 20  attacking_finishing          18944 non-null  int64  \n",
      " 21  attacking_heading_accuracy   18944 non-null  int64  \n",
      " 22  attacking_short_passing      18944 non-null  int64  \n",
      " 23  attacking_volleys            18944 non-null  int64  \n",
      " 24  skill_dribbling              18944 non-null  int64  \n",
      " 25  skill_curve                  18944 non-null  int64  \n",
      " 26  skill_fk_accuracy            18944 non-null  int64  \n",
      " 27  skill_long_passing           18944 non-null  int64  \n",
      " 28  skill_ball_control           18944 non-null  int64  \n",
      " 29  movement_acceleration        18944 non-null  int64  \n",
      " 30  movement_sprint_speed        18944 non-null  int64  \n",
      " 31  movement_agility             18944 non-null  int64  \n",
      " 32  movement_reactions           18944 non-null  int64  \n",
      " 33  movement_balance             18944 non-null  int64  \n",
      " 34  power_shot_power             18944 non-null  int64  \n",
      " 35  power_jumping                18944 non-null  int64  \n",
      " 36  power_stamina                18944 non-null  int64  \n",
      " 37  power_strength               18944 non-null  int64  \n",
      " 38  power_long_shots             18944 non-null  int64  \n",
      " 39  mentality_aggression         18944 non-null  int64  \n",
      " 40  mentality_interceptions      18944 non-null  int64  \n",
      " 41  mentality_positioning        18944 non-null  int64  \n",
      " 42  mentality_vision             18944 non-null  int64  \n",
      " 43  mentality_penalties          18944 non-null  int64  \n",
      " 44  mentality_composure          18944 non-null  int64  \n",
      " 45  defending_marking_awareness  18944 non-null  int64  \n",
      " 46  defending_standing_tackle    18944 non-null  int64  \n",
      " 47  defending_sliding_tackle     18944 non-null  int64  \n",
      " 48  goalkeeping_diving           18944 non-null  int64  \n",
      " 49  goalkeeping_handling         18944 non-null  int64  \n",
      " 50  goalkeeping_kicking          18944 non-null  int64  \n",
      " 51  goalkeeping_positioning      18944 non-null  int64  \n",
      " 52  goalkeeping_reflexes         18944 non-null  int64  \n",
      "dtypes: float64(7), int64(46)\n",
      "memory usage: 7.7 MB\n"
     ]
    }
   ],
   "source": [
    "trainX.info()"
   ]
  },
  {
   "cell_type": "markdown",
   "metadata": {},
   "source": [
    "#### Imputing Data"
   ]
  },
  {
   "cell_type": "code",
   "execution_count": null,
   "metadata": {},
   "outputs": [],
   "source": [
    "imputer = SimpleImputer(strategy='mean')"
   ]
  },
  {
   "cell_type": "markdown",
   "metadata": {},
   "source": [
    "### Setup training and testing data"
   ]
  },
  {
   "cell_type": "code",
   "execution_count": null,
   "metadata": {},
   "outputs": [],
   "source": [
    "trainX = training_data.drop('overall', axis=1)\n",
    "trainY = training_data['overall']\n",
    "testX = testing_data.drop('overall', axis=1)\n",
    "testY = testing_data['overall']"
   ]
  }
 ],
 "metadata": {
  "kernelspec": {
   "display_name": "Python 3 (ipykernel)",
   "language": "python",
   "name": "python3"
  },
  "language_info": {
   "codemirror_mode": {
    "name": "ipython",
    "version": 3
   },
   "file_extension": ".py",
   "mimetype": "text/x-python",
   "name": "python",
   "nbconvert_exporter": "python",
   "pygments_lexer": "ipython3",
   "version": "3.11.6"
  }
 },
 "nbformat": 4,
 "nbformat_minor": 2
}
