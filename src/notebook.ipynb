{
 "cells": [
  {
   "cell_type": "markdown",
   "metadata": {},
   "source": [
    "## Import Modules"
   ]
  },
  {
   "cell_type": "code",
   "execution_count": 121,
   "metadata": {},
   "outputs": [],
   "source": [
    "# import modules\n",
    "import pandas as pd\n",
    "import numpy as np"
   ]
  },
  {
   "cell_type": "markdown",
   "metadata": {},
   "source": [
    "## Loading Data"
   ]
  },
  {
   "cell_type": "code",
   "execution_count": 122,
   "metadata": {},
   "outputs": [
    {
     "name": "stderr",
     "output_type": "stream",
     "text": [
      "/tmp/ipykernel_6850/653244438.py:3: DtypeWarning: Columns (25,108) have mixed types. Specify dtype option on import or set low_memory=False.\n",
      "  testing_data = pd.read_csv('data/players_22.csv')\n"
     ]
    }
   ],
   "source": [
    "# read data\n",
    "training_data = pd.read_csv('data/players_21.csv')\n",
    "testing_data = pd.read_csv('data/players_22.csv')"
   ]
  },
  {
   "cell_type": "markdown",
   "metadata": {},
   "source": [
    "## Data Preprocessing"
   ]
  },
  {
   "cell_type": "markdown",
   "metadata": {},
   "source": [
    "### Remove columns with na values that exceed 30%"
   ]
  },
  {
   "cell_type": "code",
   "execution_count": 123,
   "metadata": {},
   "outputs": [],
   "source": [
    "# Calculate the percentage of na values in each column\n",
    "na_percentages = training_data.isna().sum() / len(training_data) * 100\n",
    "\n",
    "# Select the columns where the percentage of na values exceeds 30%\n",
    "cols_to_drop = na_percentages[na_percentages > 30].index\n",
    "\n",
    "# Drop the selected columns\n",
    "training_data.drop(cols_to_drop, axis=1, inplace=True)\n",
    "testing_data.drop(cols_to_drop, axis=1, inplace=True)"
   ]
  },
  {
   "cell_type": "markdown",
   "metadata": {},
   "source": [
    "### Remove columns where the values do not obviously contribute a player's overall rating"
   ]
  },
  {
   "cell_type": "code",
   "execution_count": 124,
   "metadata": {},
   "outputs": [],
   "source": [
    "# urls do not help to predict a player's rating\n",
    "# remove columns that have 'url' in their name\n",
    "cols_to_drop = [col for col in training_data.columns if 'url' in col]\n",
    "training_data.drop(cols_to_drop, axis=1, inplace=True)\n",
    "testing_data.drop(cols_to_drop, axis=1, inplace=True)"
   ]
  },
  {
   "cell_type": "code",
   "execution_count": 125,
   "metadata": {},
   "outputs": [],
   "source": [
    "# columns that obviously do not contribute to a player's rating\n",
    "cols_to_drop = [\n",
    "    \"age\",\n",
    "    \"sofifa_id\",\n",
    "    \"short_name\",\n",
    "    \"long_name\",\n",
    "    \"real_face\",\n",
    "]\n",
    "\n",
    "# drop the columns\n",
    "training_data.drop(cols_to_drop, axis=1, inplace=True)\n",
    "testing_data.drop(cols_to_drop, axis=1, inplace=True)"
   ]
  },
  {
   "cell_type": "code",
   "execution_count": 126,
   "metadata": {},
   "outputs": [],
   "source": [
    "# columns where input would not be available at the time of prediction\n",
    "cols_to_drop = [\n",
    "    \"gk\", \"rb\", \"rcb\", \"cb\", \"lcb\", \"lb\", \"rwb\", \"rdm\", \"cdm\", \"ldm\", \"lwb\", \"rm\", \"rcm\", \"cm\", \"lcm\", \"lm\", \"ram\", \"cam\", \"lam\", \"rw\", \"rf\", \"cf\", \"lf\", \"lw\", \"rs\", \"st\", \"ls\", \"club_joined\", \"club_contract_valid_until\"\n",
    "]\n",
    "\n",
    "# drop the columns\n",
    "training_data.drop(cols_to_drop, axis=1, inplace=True)\n",
    "testing_data.drop(cols_to_drop, axis=1, inplace=True)"
   ]
  },
  {
   "cell_type": "code",
   "execution_count": 127,
   "metadata": {},
   "outputs": [],
   "source": [
    "# remove club, national and league info. They do not explicitly determine a player's rating\n",
    "cols_to_drop = [\n",
    "    \"club_name\", \"league_name\", \"league_level\", \"club_jersey_number\", \"nationality_id\", \"nationality_name\", \"value_eur\", \"release_clause_eur\", \"club_team_id\"\n",
    "]\n",
    "\n",
    "# drop the columns\n",
    "training_data.drop(cols_to_drop, axis=1, inplace=True)\n",
    "testing_data.drop(cols_to_drop, axis=1, inplace=True)"
   ]
  },
  {
   "cell_type": "markdown",
   "metadata": {},
   "source": [
    "### Setup training and testing data"
   ]
  },
  {
   "cell_type": "code",
   "execution_count": 128,
   "metadata": {},
   "outputs": [],
   "source": [
    "trainX = training_data.drop('overall', axis=1)\n",
    "trainY = training_data['overall']\n",
    "testX = testing_data.drop('overall', axis=1)\n",
    "testY = testing_data['overall']"
   ]
  },
  {
   "cell_type": "markdown",
   "metadata": {},
   "source": [
    "#### Imputing data"
   ]
  },
  {
   "cell_type": "code",
   "execution_count": 137,
   "metadata": {},
   "outputs": [
    {
     "data": {
      "text/plain": [
       "53"
      ]
     },
     "execution_count": 137,
     "metadata": {},
     "output_type": "execute_result"
    }
   ],
   "source": [
    "trainX.shape[1]"
   ]
  },
  {
   "cell_type": "code",
   "execution_count": 134,
   "metadata": {},
   "outputs": [
    {
     "data": {
      "text/plain": [
       "player_positions                  0\n",
       "potential                         0\n",
       "wage_eur                        225\n",
       "dob                               0\n",
       "height_cm                         0\n",
       "weight_kg                         0\n",
       "club_position                   225\n",
       "preferred_foot                    0\n",
       "weak_foot                         0\n",
       "skill_moves                       0\n",
       "international_reputation          0\n",
       "work_rate                         0\n",
       "body_type                         0\n",
       "pace                           2083\n",
       "shooting                       2083\n",
       "passing                        2083\n",
       "dribbling                      2083\n",
       "defending                      2083\n",
       "physic                         2083\n",
       "attacking_crossing                0\n",
       "attacking_finishing               0\n",
       "attacking_heading_accuracy        0\n",
       "attacking_short_passing           0\n",
       "attacking_volleys                 0\n",
       "skill_dribbling                   0\n",
       "skill_curve                       0\n",
       "skill_fk_accuracy                 0\n",
       "skill_long_passing                0\n",
       "skill_ball_control                0\n",
       "movement_acceleration             0\n",
       "movement_sprint_speed             0\n",
       "movement_agility                  0\n",
       "movement_reactions                0\n",
       "movement_balance                  0\n",
       "power_shot_power                  0\n",
       "power_jumping                     0\n",
       "power_stamina                     0\n",
       "power_strength                    0\n",
       "power_long_shots                  0\n",
       "mentality_aggression              0\n",
       "mentality_interceptions           0\n",
       "mentality_positioning             0\n",
       "mentality_vision                  0\n",
       "mentality_penalties               0\n",
       "mentality_composure               0\n",
       "defending_marking_awareness       0\n",
       "defending_standing_tackle         0\n",
       "defending_sliding_tackle          0\n",
       "goalkeeping_diving                0\n",
       "goalkeeping_handling              0\n",
       "goalkeeping_kicking               0\n",
       "goalkeeping_positioning           0\n",
       "goalkeeping_reflexes              0\n",
       "dtype: int64"
      ]
     },
     "execution_count": 134,
     "metadata": {},
     "output_type": "execute_result"
    }
   ],
   "source": [
    "# show all missing fields in the columns\n",
    "# trainX.isna().sum()"
   ]
  },
  {
   "cell_type": "markdown",
   "metadata": {},
   "source": [
    "#### Encoding data"
   ]
  },
  {
   "cell_type": "code",
   "execution_count": 130,
   "metadata": {},
   "outputs": [],
   "source": [
    "# trainX.info()"
   ]
  },
  {
   "cell_type": "code",
   "execution_count": 131,
   "metadata": {},
   "outputs": [],
   "source": [
    "# # use pd.factorize to convert categorical columns to numerical\n",
    "# # check if dtype is object\n",
    "\n",
    "# # get categorical columns\n",
    "# cat_cols = [col for col in trainX.columns if trainX[col].dtype == 'object']\n",
    "\n",
    "# # factorize the categorical columns\n",
    "# for col in cat_cols:\n",
    "#     trainX[col], c1 = pd.factorize(trainX[col])\n",
    "#     testX[col], c2 = pd.factorize(testX[col])"
   ]
  },
  {
   "cell_type": "code",
   "execution_count": 132,
   "metadata": {},
   "outputs": [],
   "source": [
    "# trainX.info()"
   ]
  }
 ],
 "metadata": {
  "kernelspec": {
   "display_name": "Python 3 (ipykernel)",
   "language": "python",
   "name": "python3"
  },
  "language_info": {
   "codemirror_mode": {
    "name": "ipython",
    "version": 3
   },
   "file_extension": ".py",
   "mimetype": "text/x-python",
   "name": "python",
   "nbconvert_exporter": "python",
   "pygments_lexer": "ipython3",
   "version": "3.11.6"
  }
 },
 "nbformat": 4,
 "nbformat_minor": 2
}
