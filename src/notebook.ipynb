{
 "cells": [
  {
   "cell_type": "markdown",
   "metadata": {},
   "source": [
    "## Import Modules"
   ]
  },
  {
   "cell_type": "code",
   "execution_count": 240,
   "metadata": {},
   "outputs": [],
   "source": [
    "# import modules\n",
    "import pandas as pd\n",
    "from sklearn.impute import SimpleImputer\n",
    "from sklearn.preprocessing import StandardScaler"
   ]
  },
  {
   "cell_type": "markdown",
   "metadata": {},
   "source": [
    "## Loading Data"
   ]
  },
  {
   "cell_type": "code",
   "execution_count": 241,
   "metadata": {},
   "outputs": [
    {
     "name": "stderr",
     "output_type": "stream",
     "text": [
      "/tmp/ipykernel_6850/653244438.py:3: DtypeWarning: Columns (25,108) have mixed types. Specify dtype option on import or set low_memory=False.\n",
      "  testing_data = pd.read_csv('data/players_22.csv')\n"
     ]
    }
   ],
   "source": [
    "# read data\n",
    "training_data = pd.read_csv('data/players_21.csv')\n",
    "testing_data = pd.read_csv('data/players_22.csv')"
   ]
  },
  {
   "cell_type": "markdown",
   "metadata": {},
   "source": [
    "## Data Preprocessing"
   ]
  },
  {
   "cell_type": "markdown",
   "metadata": {},
   "source": [
    "### Remove columns with na values that exceed 30%"
   ]
  },
  {
   "cell_type": "code",
   "execution_count": 242,
   "metadata": {},
   "outputs": [],
   "source": [
    "# Calculate the percentage of na values in each column\n",
    "na_percentages = training_data.isna().sum() / len(training_data) * 100\n",
    "\n",
    "# Select the columns where the percentage of na values exceeds 30%\n",
    "cols_to_drop = na_percentages[na_percentages > 30].index\n",
    "\n",
    "# Drop the selected columns\n",
    "training_data.drop(cols_to_drop, axis=1, inplace=True)\n",
    "testing_data.drop(cols_to_drop, axis=1, inplace=True)"
   ]
  },
  {
   "cell_type": "markdown",
   "metadata": {},
   "source": [
    "### Remove columns where the values do not obviously contribute a player's overall rating"
   ]
  },
  {
   "cell_type": "code",
   "execution_count": 243,
   "metadata": {},
   "outputs": [],
   "source": [
    "# urls do not help to predict a player's rating\n",
    "# remove columns that have 'url' in their name\n",
    "cols_to_drop = [col for col in training_data.columns if 'url' in col]\n",
    "training_data.drop(cols_to_drop, axis=1, inplace=True)\n",
    "testing_data.drop(cols_to_drop, axis=1, inplace=True)"
   ]
  },
  {
   "cell_type": "code",
   "execution_count": 244,
   "metadata": {},
   "outputs": [],
   "source": [
    "# columns that obviously do not contribute to a player's rating\n",
    "cols_to_drop = [\n",
    "    \"age\",\n",
    "    \"sofifa_id\",\n",
    "    \"short_name\",\n",
    "    \"long_name\",\n",
    "    \"real_face\",\n",
    "]\n",
    "\n",
    "# drop the columns\n",
    "training_data.drop(cols_to_drop, axis=1, inplace=True)\n",
    "testing_data.drop(cols_to_drop, axis=1, inplace=True)"
   ]
  },
  {
   "cell_type": "code",
   "execution_count": 245,
   "metadata": {},
   "outputs": [],
   "source": [
    "# columns where input would not be available at the time of prediction\n",
    "cols_to_drop = [\n",
    "    \"gk\", \"rb\", \"rcb\", \"cb\", \"lcb\", \"lb\", \"rwb\", \"rdm\", \"cdm\", \"ldm\", \"lwb\", \"rm\", \"rcm\", \"cm\", \"lcm\", \"lm\", \"ram\", \"cam\", \"lam\", \"rw\", \"rf\", \"cf\", \"lf\", \"lw\", \"rs\", \"st\", \"ls\", \"club_joined\", \"club_contract_valid_until\"\n",
    "]\n",
    "\n",
    "# drop the columns\n",
    "training_data.drop(cols_to_drop, axis=1, inplace=True)\n",
    "testing_data.drop(cols_to_drop, axis=1, inplace=True)"
   ]
  },
  {
   "cell_type": "code",
   "execution_count": 246,
   "metadata": {},
   "outputs": [],
   "source": [
    "# remove club, national and league info. They do not explicitly determine a player's rating\n",
    "cols_to_drop = [\n",
    "    \"club_name\", \"league_name\", \"league_level\", \"club_jersey_number\", \"nationality_id\", \"nationality_name\", \"value_eur\", \"release_clause_eur\", \"club_team_id\"\n",
    "]\n",
    "\n",
    "# drop the columns\n",
    "training_data.drop(cols_to_drop, axis=1, inplace=True)\n",
    "testing_data.drop(cols_to_drop, axis=1, inplace=True)"
   ]
  },
  {
   "cell_type": "markdown",
   "metadata": {},
   "source": [
    "#### Encoding data"
   ]
  },
  {
   "cell_type": "code",
   "execution_count": 247,
   "metadata": {},
   "outputs": [
    {
     "name": "stdout",
     "output_type": "stream",
     "text": [
      "<class 'pandas.core.frame.DataFrame'>\n",
      "RangeIndex: 18944 entries, 0 to 18943\n",
      "Data columns (total 54 columns):\n",
      " #   Column                       Non-Null Count  Dtype  \n",
      "---  ------                       --------------  -----  \n",
      " 0   player_positions             18944 non-null  object \n",
      " 1   overall                      18944 non-null  int64  \n",
      " 2   potential                    18944 non-null  int64  \n",
      " 3   wage_eur                     18719 non-null  float64\n",
      " 4   dob                          18944 non-null  object \n",
      " 5   height_cm                    18944 non-null  int64  \n",
      " 6   weight_kg                    18944 non-null  int64  \n",
      " 7   club_position                18719 non-null  object \n",
      " 8   preferred_foot               18944 non-null  object \n",
      " 9   weak_foot                    18944 non-null  int64  \n",
      " 10  skill_moves                  18944 non-null  int64  \n",
      " 11  international_reputation     18944 non-null  int64  \n",
      " 12  work_rate                    18944 non-null  object \n",
      " 13  body_type                    18944 non-null  object \n",
      " 14  pace                         16861 non-null  float64\n",
      " 15  shooting                     16861 non-null  float64\n",
      " 16  passing                      16861 non-null  float64\n",
      " 17  dribbling                    16861 non-null  float64\n",
      " 18  defending                    16861 non-null  float64\n",
      " 19  physic                       16861 non-null  float64\n",
      " 20  attacking_crossing           18944 non-null  int64  \n",
      " 21  attacking_finishing          18944 non-null  int64  \n",
      " 22  attacking_heading_accuracy   18944 non-null  int64  \n",
      " 23  attacking_short_passing      18944 non-null  int64  \n",
      " 24  attacking_volleys            18944 non-null  int64  \n",
      " 25  skill_dribbling              18944 non-null  int64  \n",
      " 26  skill_curve                  18944 non-null  int64  \n",
      " 27  skill_fk_accuracy            18944 non-null  int64  \n",
      " 28  skill_long_passing           18944 non-null  int64  \n",
      " 29  skill_ball_control           18944 non-null  int64  \n",
      " 30  movement_acceleration        18944 non-null  int64  \n",
      " 31  movement_sprint_speed        18944 non-null  int64  \n",
      " 32  movement_agility             18944 non-null  int64  \n",
      " 33  movement_reactions           18944 non-null  int64  \n",
      " 34  movement_balance             18944 non-null  int64  \n",
      " 35  power_shot_power             18944 non-null  int64  \n",
      " 36  power_jumping                18944 non-null  int64  \n",
      " 37  power_stamina                18944 non-null  int64  \n",
      " 38  power_strength               18944 non-null  int64  \n",
      " 39  power_long_shots             18944 non-null  int64  \n",
      " 40  mentality_aggression         18944 non-null  int64  \n",
      " 41  mentality_interceptions      18944 non-null  int64  \n",
      " 42  mentality_positioning        18944 non-null  int64  \n",
      " 43  mentality_vision             18944 non-null  int64  \n",
      " 44  mentality_penalties          18944 non-null  int64  \n",
      " 45  mentality_composure          18944 non-null  int64  \n",
      " 46  defending_marking_awareness  18944 non-null  int64  \n",
      " 47  defending_standing_tackle    18944 non-null  int64  \n",
      " 48  defending_sliding_tackle     18944 non-null  int64  \n",
      " 49  goalkeeping_diving           18944 non-null  int64  \n",
      " 50  goalkeeping_handling         18944 non-null  int64  \n",
      " 51  goalkeeping_kicking          18944 non-null  int64  \n",
      " 52  goalkeeping_positioning      18944 non-null  int64  \n",
      " 53  goalkeeping_reflexes         18944 non-null  int64  \n",
      "dtypes: float64(7), int64(41), object(6)\n",
      "memory usage: 7.8+ MB\n"
     ]
    }
   ],
   "source": [
    "training_data.info()"
   ]
  },
  {
   "cell_type": "code",
   "execution_count": 248,
   "metadata": {},
   "outputs": [],
   "source": [
    "# use pd.factorize to convert categorical columns to numerical\n",
    "# check if dtype is object\n",
    "\n",
    "# get categorical columns\n",
    "cat_cols = [col for col in training_data.columns if training_data[col].dtype == 'object']\n",
    "\n",
    "# factorize the categorical columns\n",
    "for col in cat_cols:\n",
    "    training_data[col], c1 = pd.factorize(training_data[col])\n",
    "    testing_data[col], c2 = pd.factorize(testing_data[col])"
   ]
  },
  {
   "cell_type": "code",
   "execution_count": 249,
   "metadata": {},
   "outputs": [
    {
     "name": "stdout",
     "output_type": "stream",
     "text": [
      "<class 'pandas.core.frame.DataFrame'>\n",
      "RangeIndex: 18944 entries, 0 to 18943\n",
      "Data columns (total 54 columns):\n",
      " #   Column                       Non-Null Count  Dtype  \n",
      "---  ------                       --------------  -----  \n",
      " 0   player_positions             18944 non-null  int64  \n",
      " 1   overall                      18944 non-null  int64  \n",
      " 2   potential                    18944 non-null  int64  \n",
      " 3   wage_eur                     18719 non-null  float64\n",
      " 4   dob                          18944 non-null  int64  \n",
      " 5   height_cm                    18944 non-null  int64  \n",
      " 6   weight_kg                    18944 non-null  int64  \n",
      " 7   club_position                18944 non-null  int64  \n",
      " 8   preferred_foot               18944 non-null  int64  \n",
      " 9   weak_foot                    18944 non-null  int64  \n",
      " 10  skill_moves                  18944 non-null  int64  \n",
      " 11  international_reputation     18944 non-null  int64  \n",
      " 12  work_rate                    18944 non-null  int64  \n",
      " 13  body_type                    18944 non-null  int64  \n",
      " 14  pace                         16861 non-null  float64\n",
      " 15  shooting                     16861 non-null  float64\n",
      " 16  passing                      16861 non-null  float64\n",
      " 17  dribbling                    16861 non-null  float64\n",
      " 18  defending                    16861 non-null  float64\n",
      " 19  physic                       16861 non-null  float64\n",
      " 20  attacking_crossing           18944 non-null  int64  \n",
      " 21  attacking_finishing          18944 non-null  int64  \n",
      " 22  attacking_heading_accuracy   18944 non-null  int64  \n",
      " 23  attacking_short_passing      18944 non-null  int64  \n",
      " 24  attacking_volleys            18944 non-null  int64  \n",
      " 25  skill_dribbling              18944 non-null  int64  \n",
      " 26  skill_curve                  18944 non-null  int64  \n",
      " 27  skill_fk_accuracy            18944 non-null  int64  \n",
      " 28  skill_long_passing           18944 non-null  int64  \n",
      " 29  skill_ball_control           18944 non-null  int64  \n",
      " 30  movement_acceleration        18944 non-null  int64  \n",
      " 31  movement_sprint_speed        18944 non-null  int64  \n",
      " 32  movement_agility             18944 non-null  int64  \n",
      " 33  movement_reactions           18944 non-null  int64  \n",
      " 34  movement_balance             18944 non-null  int64  \n",
      " 35  power_shot_power             18944 non-null  int64  \n",
      " 36  power_jumping                18944 non-null  int64  \n",
      " 37  power_stamina                18944 non-null  int64  \n",
      " 38  power_strength               18944 non-null  int64  \n",
      " 39  power_long_shots             18944 non-null  int64  \n",
      " 40  mentality_aggression         18944 non-null  int64  \n",
      " 41  mentality_interceptions      18944 non-null  int64  \n",
      " 42  mentality_positioning        18944 non-null  int64  \n",
      " 43  mentality_vision             18944 non-null  int64  \n",
      " 44  mentality_penalties          18944 non-null  int64  \n",
      " 45  mentality_composure          18944 non-null  int64  \n",
      " 46  defending_marking_awareness  18944 non-null  int64  \n",
      " 47  defending_standing_tackle    18944 non-null  int64  \n",
      " 48  defending_sliding_tackle     18944 non-null  int64  \n",
      " 49  goalkeeping_diving           18944 non-null  int64  \n",
      " 50  goalkeeping_handling         18944 non-null  int64  \n",
      " 51  goalkeeping_kicking          18944 non-null  int64  \n",
      " 52  goalkeeping_positioning      18944 non-null  int64  \n",
      " 53  goalkeeping_reflexes         18944 non-null  int64  \n",
      "dtypes: float64(7), int64(47)\n",
      "memory usage: 7.8 MB\n"
     ]
    }
   ],
   "source": [
    "training_data.info()"
   ]
  },
  {
   "cell_type": "markdown",
   "metadata": {},
   "source": [
    "#### Imputing Data"
   ]
  },
  {
   "cell_type": "code",
   "execution_count": 250,
   "metadata": {},
   "outputs": [],
   "source": [
    "imputer = SimpleImputer(strategy='most_frequent')\n",
    "training_data = pd.DataFrame(imputer.fit_transform(training_data), columns=training_data.columns)\n",
    "testing_data = pd.DataFrame(imputer.transform(testing_data), columns=testing_data.columns)"
   ]
  },
  {
   "cell_type": "code",
   "execution_count": 251,
   "metadata": {},
   "outputs": [
    {
     "name": "stdout",
     "output_type": "stream",
     "text": [
      "<class 'pandas.core.frame.DataFrame'>\n",
      "RangeIndex: 18944 entries, 0 to 18943\n",
      "Data columns (total 54 columns):\n",
      " #   Column                       Non-Null Count  Dtype  \n",
      "---  ------                       --------------  -----  \n",
      " 0   player_positions             18944 non-null  float64\n",
      " 1   overall                      18944 non-null  float64\n",
      " 2   potential                    18944 non-null  float64\n",
      " 3   wage_eur                     18944 non-null  float64\n",
      " 4   dob                          18944 non-null  float64\n",
      " 5   height_cm                    18944 non-null  float64\n",
      " 6   weight_kg                    18944 non-null  float64\n",
      " 7   club_position                18944 non-null  float64\n",
      " 8   preferred_foot               18944 non-null  float64\n",
      " 9   weak_foot                    18944 non-null  float64\n",
      " 10  skill_moves                  18944 non-null  float64\n",
      " 11  international_reputation     18944 non-null  float64\n",
      " 12  work_rate                    18944 non-null  float64\n",
      " 13  body_type                    18944 non-null  float64\n",
      " 14  pace                         18944 non-null  float64\n",
      " 15  shooting                     18944 non-null  float64\n",
      " 16  passing                      18944 non-null  float64\n",
      " 17  dribbling                    18944 non-null  float64\n",
      " 18  defending                    18944 non-null  float64\n",
      " 19  physic                       18944 non-null  float64\n",
      " 20  attacking_crossing           18944 non-null  float64\n",
      " 21  attacking_finishing          18944 non-null  float64\n",
      " 22  attacking_heading_accuracy   18944 non-null  float64\n",
      " 23  attacking_short_passing      18944 non-null  float64\n",
      " 24  attacking_volleys            18944 non-null  float64\n",
      " 25  skill_dribbling              18944 non-null  float64\n",
      " 26  skill_curve                  18944 non-null  float64\n",
      " 27  skill_fk_accuracy            18944 non-null  float64\n",
      " 28  skill_long_passing           18944 non-null  float64\n",
      " 29  skill_ball_control           18944 non-null  float64\n",
      " 30  movement_acceleration        18944 non-null  float64\n",
      " 31  movement_sprint_speed        18944 non-null  float64\n",
      " 32  movement_agility             18944 non-null  float64\n",
      " 33  movement_reactions           18944 non-null  float64\n",
      " 34  movement_balance             18944 non-null  float64\n",
      " 35  power_shot_power             18944 non-null  float64\n",
      " 36  power_jumping                18944 non-null  float64\n",
      " 37  power_stamina                18944 non-null  float64\n",
      " 38  power_strength               18944 non-null  float64\n",
      " 39  power_long_shots             18944 non-null  float64\n",
      " 40  mentality_aggression         18944 non-null  float64\n",
      " 41  mentality_interceptions      18944 non-null  float64\n",
      " 42  mentality_positioning        18944 non-null  float64\n",
      " 43  mentality_vision             18944 non-null  float64\n",
      " 44  mentality_penalties          18944 non-null  float64\n",
      " 45  mentality_composure          18944 non-null  float64\n",
      " 46  defending_marking_awareness  18944 non-null  float64\n",
      " 47  defending_standing_tackle    18944 non-null  float64\n",
      " 48  defending_sliding_tackle     18944 non-null  float64\n",
      " 49  goalkeeping_diving           18944 non-null  float64\n",
      " 50  goalkeeping_handling         18944 non-null  float64\n",
      " 51  goalkeeping_kicking          18944 non-null  float64\n",
      " 52  goalkeeping_positioning      18944 non-null  float64\n",
      " 53  goalkeeping_reflexes         18944 non-null  float64\n",
      "dtypes: float64(54)\n",
      "memory usage: 7.8 MB\n"
     ]
    }
   ],
   "source": [
    "training_data.info()"
   ]
  },
  {
   "cell_type": "markdown",
   "metadata": {},
   "source": [
    "### Setup training and testing data"
   ]
  },
  {
   "cell_type": "code",
   "execution_count": 252,
   "metadata": {},
   "outputs": [],
   "source": [
    "trainX = training_data.drop('overall', axis=1)\n",
    "trainY = training_data['overall']\n",
    "testX = testing_data.drop('overall', axis=1)\n",
    "testY = testing_data['overall']"
   ]
  },
  {
   "cell_type": "markdown",
   "metadata": {},
   "source": [
    "#### Scaling the independent variables"
   ]
  },
  {
   "cell_type": "code",
   "execution_count": 253,
   "metadata": {},
   "outputs": [],
   "source": [
    "scaler = StandardScaler()\n",
    "trainX = pd.DataFrame(scaler.fit_transform(trainX), columns=trainX.columns)\n",
    "testX = pd.DataFrame(scaler.transform(testX), columns=testX.columns)"
   ]
  },
  {
   "cell_type": "code",
   "execution_count": 254,
   "metadata": {},
   "outputs": [
    {
     "name": "stdout",
     "output_type": "stream",
     "text": [
      "<class 'pandas.core.frame.DataFrame'>\n",
      "RangeIndex: 18944 entries, 0 to 18943\n",
      "Data columns (total 53 columns):\n",
      " #   Column                       Non-Null Count  Dtype  \n",
      "---  ------                       --------------  -----  \n",
      " 0   player_positions             18944 non-null  float64\n",
      " 1   potential                    18944 non-null  float64\n",
      " 2   wage_eur                     18944 non-null  float64\n",
      " 3   dob                          18944 non-null  float64\n",
      " 4   height_cm                    18944 non-null  float64\n",
      " 5   weight_kg                    18944 non-null  float64\n",
      " 6   club_position                18944 non-null  float64\n",
      " 7   preferred_foot               18944 non-null  float64\n",
      " 8   weak_foot                    18944 non-null  float64\n",
      " 9   skill_moves                  18944 non-null  float64\n",
      " 10  international_reputation     18944 non-null  float64\n",
      " 11  work_rate                    18944 non-null  float64\n",
      " 12  body_type                    18944 non-null  float64\n",
      " 13  pace                         18944 non-null  float64\n",
      " 14  shooting                     18944 non-null  float64\n",
      " 15  passing                      18944 non-null  float64\n",
      " 16  dribbling                    18944 non-null  float64\n",
      " 17  defending                    18944 non-null  float64\n",
      " 18  physic                       18944 non-null  float64\n",
      " 19  attacking_crossing           18944 non-null  float64\n",
      " 20  attacking_finishing          18944 non-null  float64\n",
      " 21  attacking_heading_accuracy   18944 non-null  float64\n",
      " 22  attacking_short_passing      18944 non-null  float64\n",
      " 23  attacking_volleys            18944 non-null  float64\n",
      " 24  skill_dribbling              18944 non-null  float64\n",
      " 25  skill_curve                  18944 non-null  float64\n",
      " 26  skill_fk_accuracy            18944 non-null  float64\n",
      " 27  skill_long_passing           18944 non-null  float64\n",
      " 28  skill_ball_control           18944 non-null  float64\n",
      " 29  movement_acceleration        18944 non-null  float64\n",
      " 30  movement_sprint_speed        18944 non-null  float64\n",
      " 31  movement_agility             18944 non-null  float64\n",
      " 32  movement_reactions           18944 non-null  float64\n",
      " 33  movement_balance             18944 non-null  float64\n",
      " 34  power_shot_power             18944 non-null  float64\n",
      " 35  power_jumping                18944 non-null  float64\n",
      " 36  power_stamina                18944 non-null  float64\n",
      " 37  power_strength               18944 non-null  float64\n",
      " 38  power_long_shots             18944 non-null  float64\n",
      " 39  mentality_aggression         18944 non-null  float64\n",
      " 40  mentality_interceptions      18944 non-null  float64\n",
      " 41  mentality_positioning        18944 non-null  float64\n",
      " 42  mentality_vision             18944 non-null  float64\n",
      " 43  mentality_penalties          18944 non-null  float64\n",
      " 44  mentality_composure          18944 non-null  float64\n",
      " 45  defending_marking_awareness  18944 non-null  float64\n",
      " 46  defending_standing_tackle    18944 non-null  float64\n",
      " 47  defending_sliding_tackle     18944 non-null  float64\n",
      " 48  goalkeeping_diving           18944 non-null  float64\n",
      " 49  goalkeeping_handling         18944 non-null  float64\n",
      " 50  goalkeeping_kicking          18944 non-null  float64\n",
      " 51  goalkeeping_positioning      18944 non-null  float64\n",
      " 52  goalkeeping_reflexes         18944 non-null  float64\n",
      "dtypes: float64(53)\n",
      "memory usage: 7.7 MB\n"
     ]
    }
   ],
   "source": [
    "trainX.info()"
   ]
  },
  {
   "cell_type": "markdown",
   "metadata": {},
   "source": [
    "#### Create feature subsets that better correlate with the overall rating"
   ]
  },
  {
   "cell_type": "code",
   "execution_count": 256,
   "metadata": {},
   "outputs": [
    {
     "name": "stdout",
     "output_type": "stream",
     "text": [
      "['potential', 'wage_eur', 'dob', 'passing', 'dribbling', 'attacking_short_passing', 'movement_reactions', 'power_shot_power', 'mentality_vision', 'mentality_composure']\n",
      "10\n"
     ]
    }
   ],
   "source": [
    "# create feature subsets which show better correlation with the overall rating\n",
    "\n",
    "# create a list of all the columns with a correlation greater than 0.5\n",
    "feature_cols = list(trainX.corrwith(trainY)[abs(trainX.corrwith(trainY)) > 0.5].index)\n",
    "\n",
    "print(feature_cols)\n",
    "print(len(feature_cols))"
   ]
  },
  {
   "cell_type": "code",
   "execution_count": 257,
   "metadata": {},
   "outputs": [],
   "source": [
    "# set trainX and testX to the new feature subset\n",
    "trainX = trainX[feature_cols]\n",
    "testX = testX[feature_cols]"
   ]
  },
  {
   "cell_type": "code",
   "execution_count": 258,
   "metadata": {},
   "outputs": [
    {
     "name": "stdout",
     "output_type": "stream",
     "text": [
      "<class 'pandas.core.frame.DataFrame'>\n",
      "RangeIndex: 18944 entries, 0 to 18943\n",
      "Data columns (total 10 columns):\n",
      " #   Column                   Non-Null Count  Dtype  \n",
      "---  ------                   --------------  -----  \n",
      " 0   potential                18944 non-null  float64\n",
      " 1   wage_eur                 18944 non-null  float64\n",
      " 2   dob                      18944 non-null  float64\n",
      " 3   passing                  18944 non-null  float64\n",
      " 4   dribbling                18944 non-null  float64\n",
      " 5   attacking_short_passing  18944 non-null  float64\n",
      " 6   movement_reactions       18944 non-null  float64\n",
      " 7   power_shot_power         18944 non-null  float64\n",
      " 8   mentality_vision         18944 non-null  float64\n",
      " 9   mentality_composure      18944 non-null  float64\n",
      "dtypes: float64(10)\n",
      "memory usage: 1.4 MB\n"
     ]
    }
   ],
   "source": [
    "trainX.info()"
   ]
  },
  {
   "cell_type": "markdown",
   "metadata": {},
   "source": [
    "## Training Models\n",
    "\n",
    "Using Cross validation to train the Gradient Boosting Classifer \n"
   ]
  },
  {
   "cell_type": "markdown",
   "metadata": {},
   "source": [
    "from sklearn.ensemble import GradientBoostingClassifier\n",
    "gdc= GradientBoostingClassifier(learning_rate=0.001,random_state=42,)\n",
    "\n",
    "cv=KFold(n_splits=3)\n",
    "PARAMETERS ={\n",
    "\"max_depth\":[2,5, 6, 12],\n",
    "# \"min_child_weight\":[1,5,15],\n",
    "\"learning_rate\":[0.3, 0.1, 0.03],\n",
    "\"n_estimators\":[100,500,1000]}\n",
    "gd=GradientBoostingClassifier()\n",
    "model_gs = GridSearchCV(gd,param_grid=PARAMETERS,cv=cv,scoring=\"accuracy\")\n",
    "model_gs.fit(Xtrain,Ytrain)"
   ]
  },
  {
   "cell_type": "code",
   "execution_count": null,
   "metadata": {},
   "outputs": [],
   "source": [
    "# do cross validation training with either RandomForest, XGBoost, Gradient Boost Regressors that can predict a player rating.\n",
    "\n",
    "# RandomForestRegressor cross validation training\n",
    "\n",
    "\n",
    "cv = KFold(n_splits=3)\n",
    "PARAMETERS = {\n",
    "    \"max_depth\": [2, 5, 6, 12],\n",
    "    \"learning_rate\": [0.3, 0.1, 0.03],"
   ]
  }
 ],
 "metadata": {
  "kernelspec": {
   "display_name": "Python 3 (ipykernel)",
   "language": "python",
   "name": "python3"
  },
  "language_info": {
   "codemirror_mode": {
    "name": "ipython",
    "version": 3
   },
   "file_extension": ".py",
   "mimetype": "text/x-python",
   "name": "python",
   "nbconvert_exporter": "python",
   "pygments_lexer": "ipython3",
   "version": "3.11.6"
  }
 },
 "nbformat": 4,
 "nbformat_minor": 2
}
